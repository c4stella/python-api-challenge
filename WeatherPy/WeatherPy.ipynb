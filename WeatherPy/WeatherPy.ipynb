{
 "cells": [
  {
   "cell_type": "code",
   "execution_count": null,
   "metadata": {},
   "outputs": [],
   "source": [
    "#Dependencies\n",
    "import pandas as pd\n",
    "import matplotlib.pyplot as plt\n",
    "import random\n",
    "import requests\n",
    "import json\n",
    "\n",
    "#Installing citipy\n",
    "from citipy import citipy\n",
    "\n",
    "#API key\n",
    "from api_key import api_key\n",
    "#print(api_key)"
   ]
  },
  {
   "cell_type": "code",
   "execution_count": null,
   "metadata": {},
   "outputs": [],
   "source": [
    "#Seeding random values, if needed\n",
    "random.seed(100)\n",
    "\n",
    "#Empty lists for iteration\n",
    "locat = []\n",
    "t_lat = []\n",
    "t_lng = []\n",
    "\n",
    "#Generate random numbers for coordinates, then pass through citipy \n",
    "for i in range(20):\n",
    "    rn_lat = round(random.uniform(-90, 90), 4)\n",
    "    rn_lng = round(random.uniform(-180, 180), 4)\n",
    "    \n",
    "    coord = citipy.nearest_city(rn_lat, rn_lng)\n",
    "\n",
    "    name_cit = coord.city_name\n",
    "    name_con = coord.country_code\n",
    "    \n",
    "    locat.append(f'{name_cit},{name_con}')\n",
    "    t_lat.append(rn_lat)\n",
    "    t_lng.append(rn_lng)\n",
    "    \n",
    "#print(locat)"
   ]
  },
  {
   "cell_type": "code",
   "execution_count": null,
   "metadata": {},
   "outputs": [],
   "source": [
    "#Removing duplicate values\n",
    "locat = list(set(locat))\n",
    "\n",
    "#len(locat)\n",
    "#print(locat)"
   ]
  },
  {
   "cell_type": "code",
   "execution_count": null,
   "metadata": {},
   "outputs": [],
   "source": [
    "#Generate geolocation query links to pass through API\n",
    "url_geo = 'http://api.openweathermap.org/geo/1.0/direct?q='\n",
    "\n",
    "q_geo = []\n",
    "city = []\n",
    "country = []\n",
    "\n",
    "for l in locat:\n",
    "    q_geo.append(url_geo + l + '&appid=' + api_key)\n",
    "    \n",
    "    locat_split = l.split(',')\n",
    "    city.append(locat_split[0])\n",
    "    country.append(locat_split[1])\n",
    "    \n",
    "#len(q_geo)\n",
    "#q_geo"
   ]
  },
  {
   "cell_type": "code",
   "execution_count": null,
   "metadata": {},
   "outputs": [],
   "source": [
    "#Generating API responses, finding true coordinates\n",
    "lat = []\n",
    "lng = []\n",
    "gg = []\n",
    "\n",
    "for qg in q_geo:\n",
    "    georesponse = requests.get(qg)\n",
    "    geodata = georesponse.json()\n",
    "    gg.append(geodata)\n",
    "    \n",
    "    if geodata == []:\n",
    "        continue\n",
    "    else:\n",
    "        true_lat = geodata[0]['lat']\n",
    "        true_lng = geodata[0]['lon']\n",
    "        \n",
    "        lat.append(true_lat)\n",
    "        lng.append(true_lng)"
   ]
  },
  {
   "cell_type": "code",
   "execution_count": null,
   "metadata": {},
   "outputs": [],
   "source": [
    "#Adjust length of cities and countries according to coordinates\n",
    "for d in range(len(gg) - 1):\n",
    "    if gg[d] == []:\n",
    "        del city[d]\n",
    "        del country[d]"
   ]
  },
  {
   "cell_type": "code",
   "execution_count": null,
   "metadata": {},
   "outputs": [],
   "source": [
    "#DataFrame for city information\n",
    "cities_df = pd.DataFrame({'City': city,\n",
    "                         'Country': country,\n",
    "                         'Lat': lat,\n",
    "                         'Lng': lng})\n",
    "\n",
    "#cities_df.head()"
   ]
  },
  {
   "cell_type": "code",
   "execution_count": null,
   "metadata": {},
   "outputs": [],
   "source": [
    "cities_df"
   ]
  },
  {
   "cell_type": "code",
   "execution_count": null,
   "metadata": {},
   "outputs": [],
   "source": [
    "#Generate weather data query links to pass through API\n",
    "\n",
    "url_wthr = 'https://api.openweathermap.org/data/2.5/weather?'\n",
    "q_wthr = []\n",
    "\n",
    "for w in range(len(lat)):\n",
    "    \n",
    "    q_lat = 'lat=' + str(lat[w])\n",
    "    q_lng = '&lon=' + str(lng[w])\n",
    "    unit = '&units=imperial'\n",
    "    q_wthr.append(url_wthr + q_lat + q_lng + unit+ '&appid=' + api_key)"
   ]
  },
  {
   "cell_type": "code",
   "execution_count": null,
   "metadata": {},
   "outputs": [],
   "source": [
    "len(q_wthr)"
   ]
  },
  {
   "cell_type": "code",
   "execution_count": null,
   "metadata": {},
   "outputs": [],
   "source": [
    "temperatures = []\n",
    "#main, temp(F)\n",
    "humidity = []\n",
    "#main, humidity(%)\n",
    "cloudiness = []\n",
    "#clouds, all(%)\n",
    "windspeed = []\n",
    "#wind, speed(mph)\n",
    "\n",
    "for qw in q_wthr:\n",
    "    wthresponse = requests.get(qw)\n",
    "    wthdata = wthresponse.json()\n",
    "    \n",
    "    tempf = wthdata['main']['temp']\n",
    "    humid = wthdata['main']['humidity']\n",
    "    cloud = wthdata['clouds']['all']\n",
    "    winds = wthdata['wind']['speed']\n",
    "    \n",
    "    temperatures.append(tempf)\n",
    "    humidity.append(humid)\n",
    "    cloudiness.append(cloud)\n",
    "    windspeed.append(winds)"
   ]
  },
  {
   "cell_type": "code",
   "execution_count": null,
   "metadata": {},
   "outputs": [],
   "source": [
    "cities_df['Current Temp (F)'] = temperatures\n",
    "cities_df['Humidity (%)'] = humidity\n",
    "cities_df['Cloudiness (%)'] = cloudiness\n",
    "cities_df['Wind Speed (mph)'] = windspeed"
   ]
  },
  {
   "cell_type": "code",
   "execution_count": null,
   "metadata": {},
   "outputs": [],
   "source": [
    "cities_df"
   ]
  },
  {
   "cell_type": "code",
   "execution_count": null,
   "metadata": {},
   "outputs": [],
   "source": [
    "plt.scatter(cities_df['Lat'], cities_df['Current Temp (F)'])\n",
    "\n",
    "plt.xlim(-90, 90)\n",
    "plt.ylim(0, 100)\n",
    "\n",
    "plt.xlabel('Latitude')\n",
    "plt.ylabel('Degrees Fahrenheit')\n",
    "\n",
    "plt.title('Temperature (F) across Latitude')\n",
    "plt.show()"
   ]
  },
  {
   "cell_type": "code",
   "execution_count": null,
   "metadata": {},
   "outputs": [],
   "source": [
    "plt.scatter(cities_df['Lat'], cities_df['Humidity (%)'])\n",
    "\n",
    "plt.xlim(-90, 90)\n",
    "plt.ylim(0, 100)\n",
    "\n",
    "plt.xlabel('Latitude')\n",
    "plt.ylabel('Relative Humidity')\n",
    "\n",
    "plt.title('Humidity across Latitude')\n",
    "plt.show()"
   ]
  },
  {
   "cell_type": "code",
   "execution_count": null,
   "metadata": {},
   "outputs": [],
   "source": [
    "plt.scatter(cities_df['Lat'], cities_df['Cloudiness (%)'])\n",
    "\n",
    "plt.xlim(-90, 90)\n",
    "plt.ylim(0, 100)\n",
    "\n",
    "plt.xlabel('Latitude')\n",
    "plt.ylabel('Cloud Cover')\n",
    "\n",
    "plt.title('Cloudiness across Latitude')\n",
    "plt.show()"
   ]
  },
  {
   "cell_type": "code",
   "execution_count": null,
   "metadata": {},
   "outputs": [],
   "source": [
    "plt.scatter(cities_df['Lat'], cities_df['Wind Speed (mph)'])\n",
    "\n",
    "plt.xlim(-90, 90)\n",
    "plt.ylim(0, 25)\n",
    "\n",
    "plt.xlabel('Latitude')\n",
    "plt.ylabel('Cloud Cover')\n",
    "\n",
    "plt.title('Wind Speed across Latitude')\n",
    "plt.show()"
   ]
  },
  {
   "cell_type": "code",
   "execution_count": null,
   "metadata": {},
   "outputs": [],
   "source": []
  }
 ],
 "metadata": {
  "kernelspec": {
   "display_name": "Python 3 (ipykernel)",
   "language": "python",
   "name": "python3"
  },
  "language_info": {
   "codemirror_mode": {
    "name": "ipython",
    "version": 3
   },
   "file_extension": ".py",
   "mimetype": "text/x-python",
   "name": "python",
   "nbconvert_exporter": "python",
   "pygments_lexer": "ipython3",
   "version": "3.9.7"
  }
 },
 "nbformat": 4,
 "nbformat_minor": 4
}
