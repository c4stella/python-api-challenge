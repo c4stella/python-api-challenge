{
 "cells": [
  {
   "cell_type": "code",
   "execution_count": 2,
   "metadata": {},
   "outputs": [
    {
     "name": "stdout",
     "output_type": "stream",
     "text": [
      "4913eafb294e90c158bf2eb743930fd0\n"
     ]
    }
   ],
   "source": [
    "#Dependencies\n",
    "import pandas as pd\n",
    "import matplotlib.pyplot as plt\n",
    "import random\n",
    "import requests\n",
    "import json\n",
    "\n",
    "#Installing citipy\n",
    "from citipy import citipy\n",
    "\n",
    "#API key\n",
    "from api_key import api_key\n",
    "print(api_key)"
   ]
  },
  {
   "cell_type": "code",
   "execution_count": 68,
   "metadata": {},
   "outputs": [],
   "source": [
    "#DataFrame for city information\n",
    "cities_df = pd.DataFrame(columns = ['City', 'Country', 'Lat', 'Lng'])\n",
    "\n",
    "#Empty lists for iteration\n",
    "city = []\n",
    "country = []\n",
    "t_lat = []\n",
    "t_lng = []\n",
    "\n",
    "#Generate random numbers for coordinates, then pass through citipy \n",
    "for i in range(20):\n",
    "    rn_lat = round(random.uniform(-90, 90), 4)\n",
    "    rn_lng = round(random.uniform(-180, 180), 4)\n",
    "    \n",
    "    coord = citipy.nearest_city(rn_lat, rn_lng)\n",
    "\n",
    "    city.append(coord.city_name)\n",
    "    country.append(coord.country_code)\n",
    "    t_lat.append(rn_lat)\n",
    "    t_lng.append(rn_lng)\n",
    "    \n",
    "#print(city)\n",
    "#print(country)"
   ]
  },
  {
   "cell_type": "code",
   "execution_count": 42,
   "metadata": {},
   "outputs": [],
   "source": [
    "#Add lists to dataframe\n",
    "cities_df.City = city\n",
    "cities_df.Country = country\n",
    "#cities_df.head()"
   ]
  },
  {
   "cell_type": "code",
   "execution_count": 81,
   "metadata": {},
   "outputs": [],
   "source": [
    "#Take citipy cities and pass through API\n",
    "url_geo = 'http://api.openweathermap.org/geo/1.0/direct?q='\n",
    "\n",
    "lat = []\n",
    "lng = []\n",
    "    "
   ]
  },
  {
   "cell_type": "code",
   "execution_count": null,
   "metadata": {},
   "outputs": [],
   "source": []
  }
 ],
 "metadata": {
  "kernelspec": {
   "display_name": "Python 3 (ipykernel)",
   "language": "python",
   "name": "python3"
  },
  "language_info": {
   "codemirror_mode": {
    "name": "ipython",
    "version": 3
   },
   "file_extension": ".py",
   "mimetype": "text/x-python",
   "name": "python",
   "nbconvert_exporter": "python",
   "pygments_lexer": "ipython3",
   "version": "3.9.7"
  }
 },
 "nbformat": 4,
 "nbformat_minor": 4
}
