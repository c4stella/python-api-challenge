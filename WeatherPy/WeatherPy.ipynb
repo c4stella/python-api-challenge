{
 "cells": [
  {
   "cell_type": "code",
   "execution_count": null,
   "metadata": {},
   "outputs": [],
   "source": [
    "#Dependencies\n",
    "import pandas as pd\n",
    "import matplotlib.pyplot as plt\n",
    "import random\n",
    "import requests\n",
    "import json\n",
    "\n",
    "#Installing citipy\n",
    "from citipy import citipy\n",
    "\n",
    "#API key\n",
    "from api_key import api_key\n",
    "#print(api_key)"
   ]
  },
  {
   "cell_type": "code",
   "execution_count": null,
   "metadata": {},
   "outputs": [],
   "source": [
    "#Seeding random values, if needed\n",
    "random.seed(100)\n",
    "\n",
    "#Empty lists for iteration\n",
    "locat = [] #to store names of cities\n",
    "t_lat = [] #to store dummy latitude values, in case needed\n",
    "t_lng = [] #to store dummy longitude values, in case needed\n",
    "\n",
    "#Generate random numbers for coordinates, then pass through citipy\n",
    "#Initial range must be larger than target value, as duplicate cities will populate results\n",
    "for i in range(1600):    \n",
    "    #Generate random values according to maximum values for lat and lng\n",
    "    rn_lat = round(random.uniform(-90, 90), 4)\n",
    "    rn_lng = round(random.uniform(-180, 180), 4)\n",
    "    \n",
    "    #Using citipy to find nearest city to generated coordinates\n",
    "    coord = citipy.nearest_city(rn_lat, rn_lng)\n",
    "\n",
    "    #Finding name of city and its country\n",
    "    name_cit = coord.city_name\n",
    "    name_con = coord.country_code\n",
    "    \n",
    "    #Append values to lists\n",
    "    locat.append(f'{name_cit},{name_con}')\n",
    "    t_lat.append(rn_lat)\n",
    "    t_lng.append(rn_lng)\n",
    "    \n",
    "#print(locat)"
   ]
  },
  {
   "cell_type": "code",
   "execution_count": null,
   "metadata": {},
   "outputs": [],
   "source": [
    "#Removing duplicate values\n",
    "locat = list(set(locat))\n",
    "\n",
    "len(locat)\n",
    "#print(locat)"
   ]
  },
  {
   "cell_type": "code",
   "execution_count": null,
   "metadata": {},
   "outputs": [],
   "source": [
    "#Generate geolocation query links to pass through API\n",
    "\n",
    "#Base url for geolocation\n",
    "url_geo = 'http://api.openweathermap.org/geo/1.0/direct?q='\n",
    "\n",
    "#Empty lists for iteration\n",
    "q_geo = [] #to store geolocation query urls\n",
    "t_city = [] #to store city name, not final\n",
    "t_country = [] #to store country, not final\n",
    "\n",
    "#Generating query urls for geolocation\n",
    "for l in locat:\n",
    "    #Generating urls with each city country pair\n",
    "    q_geo.append(url_geo + l + '&appid=' + api_key)\n",
    "    \n",
    "    #Splitting city and country and appending to lists\n",
    "    locat_split = l.split(',')\n",
    "    t_city.append(locat_split[0])\n",
    "    t_country.append(locat_split[1])\n",
    "    \n",
    "print(len(q_geo))\n",
    "print(len(t_city))\n",
    "print(len(t_country))\n",
    "#q_geo"
   ]
  },
  {
   "cell_type": "code",
   "execution_count": null,
   "metadata": {},
   "outputs": [],
   "source": [
    "#Generating API responses (takes around 4 minutes+)\n",
    "\n",
    "gg = [] #to store json responses, needed to confirm success of API calls\n",
    "\n",
    "#Generating API calls\n",
    "for qg in q_geo:\n",
    "    georesponse = requests.get(qg)\n",
    "    geodata = georesponse.json()\n",
    "    gg.append(geodata)\n",
    "             \n",
    "print(len(gg))"
   ]
  },
  {
   "cell_type": "code",
   "execution_count": null,
   "metadata": {},
   "outputs": [],
   "source": [
    "gg[0]"
   ]
  },
  {
   "cell_type": "code",
   "execution_count": null,
   "metadata": {},
   "outputs": [],
   "source": [
    "#Accounting for blank entries\n",
    "\n",
    "#Empty lists for iteration\n",
    "lat = [] #to store latitude\n",
    "lng = [] #to store longitude\n",
    "city = [] #to store cities from JSON response\n",
    "country = [] #to store countries from JSON response\n",
    "\n",
    "for g in gg:\n",
    "    #If response is empty, remove from response list\n",
    "    if g == []:\n",
    "        blankindex = gg.index(g)\n",
    "        del gg[blankindex]\n",
    "    \n",
    "    #Append actual city data to empty lists\n",
    "    else:\n",
    "        true_lat = g[0]['lat']\n",
    "        true_lng = g[0]['lon']\n",
    "        true_cit = g[0]['name']\n",
    "        true_con = g[0]['country']\n",
    "        \n",
    "        lat.append(true_lat)\n",
    "        lng.append(true_lng)\n",
    "        city.append(true_cit)\n",
    "        country.append(true_con)\n",
    "\n",
    "print(len(city))\n",
    "print(len(country))\n",
    "print(len(lat))"
   ]
  },
  {
   "cell_type": "code",
   "execution_count": null,
   "metadata": {},
   "outputs": [],
   "source": [
    "#DataFrame for city information\n",
    "cities_df = pd.DataFrame({'City': city,\n",
    "                         'Country': country,\n",
    "                         'Lat': lat,\n",
    "                         'Lng': lng})\n",
    "\n",
    "#cities_df.head()"
   ]
  },
  {
   "cell_type": "code",
   "execution_count": null,
   "metadata": {},
   "outputs": [],
   "source": [
    "#Generate weather data query links to pass through API\n",
    "\n",
    "#Base url for weather data\n",
    "url_wthr = 'https://api.openweathermap.org/data/2.5/weather?'\n",
    "\n",
    "#Empty list for iteration\n",
    "q_wthr = [] #to store weather query urls\n",
    "\n",
    "#Generate query urls for weather data\n",
    "for w in range(len(lat)):\n",
    "    \n",
    "    #Generate urls with actual lat and lng values, and using imperial units\n",
    "    q_lat = 'lat=' + str(lat[w])\n",
    "    q_lng = '&lon=' + str(lng[w])\n",
    "    unit = '&units=imperial'\n",
    "    q_wthr.append(url_wthr + q_lat + q_lng + unit+ '&appid=' + api_key)\n",
    "    \n",
    "#len(q_wthr)"
   ]
  },
  {
   "cell_type": "code",
   "execution_count": null,
   "metadata": {},
   "outputs": [],
   "source": [
    "#Finding temperature, humidity, cloudiness, and wind speed of all cities (takes around 5 minutes+)\n",
    "\n",
    "#Empty lists for iteration\n",
    "temperatures = []\n",
    "#params = main, temp\n",
    "humidity = []\n",
    "#params = main, humidity\n",
    "cloudiness = []\n",
    "#params = clouds, all\n",
    "windspeed = []\n",
    "#params = wind, speed\n",
    "\n",
    "#Generate API calls\n",
    "for qw in q_wthr:\n",
    "    wthresponse = requests.get(qw)\n",
    "    wthdata = wthresponse.json()\n",
    "    \n",
    "    tempf = wthdata['main']['temp']\n",
    "    humid = wthdata['main']['humidity']\n",
    "    cloud = wthdata['clouds']['all']\n",
    "    winds = wthdata['wind']['speed']\n",
    "    \n",
    "    temperatures.append(tempf)\n",
    "    humidity.append(humid)\n",
    "    cloudiness.append(cloud)\n",
    "    windspeed.append(winds)\n",
    "\n",
    "#print(temperatures)\n",
    "#print(humidity)\n",
    "#print(cloudiness)\n",
    "#print(windspeed)"
   ]
  },
  {
   "cell_type": "code",
   "execution_count": null,
   "metadata": {},
   "outputs": [],
   "source": [
    "#Attach new data to dataframe\n",
    "cities_df['Current Temp (F)'] = temperatures\n",
    "cities_df['Humidity (%)'] = humidity\n",
    "cities_df['Cloudiness (%)'] = cloudiness\n",
    "cities_df['Wind Speed (mph)'] = windspeed\n",
    "\n",
    "#cities_df.head()"
   ]
  },
  {
   "cell_type": "code",
   "execution_count": null,
   "metadata": {},
   "outputs": [],
   "source": [
    "## Plotting"
   ]
  },
  {
   "cell_type": "code",
   "execution_count": null,
   "metadata": {},
   "outputs": [],
   "source": [
    "#Scatter plot displaying temperature across latitude\n",
    "#Using absolute values of latitude, not comparing north vs south\n",
    "plt.scatter(abs(cities_df['Lat']), cities_df['Current Temp (F)'])\n",
    "\n",
    "plt.xlim(0, 90)\n",
    "plt.ylim(0, 100)\n",
    "\n",
    "plt.xlabel('Latitude')\n",
    "plt.ylabel('Degrees Fahrenheit')\n",
    "\n",
    "plt.title('Temperature (F) across Latitude')\n",
    "plt.grid()\n",
    "plt.show()\n",
    "\n",
    "#The plot compares temperature readings of cities with their latitude, and shows a strong correlation.  \n",
    "#The closer one gets to 0 degrees lat (the equator), the higher the temperature will be."
   ]
  },
  {
   "cell_type": "code",
   "execution_count": null,
   "metadata": {},
   "outputs": [],
   "source": [
    "#Scatter plot displaying humidity across latitude\n",
    "#Using absolute values of latitude, not comparing north vs south\n",
    "plt.scatter(abs(cities_df['Lat']), cities_df['Humidity (%)'])\n",
    "\n",
    "plt.xlim(0, 90)\n",
    "plt.ylim(0, 100)\n",
    "\n",
    "plt.xlabel('Latitude')\n",
    "plt.ylabel('Relative Humidity')\n",
    "\n",
    "plt.title('Humidity across Latitude')\n",
    "plt.grid()\n",
    "plt.show()\n",
    "\n",
    "#The plot compares humidity readings of cities with their latitude, and shows a weak correlation.\n",
    "#Generally, humidity seems to be high across most cities regardless of latitude."
   ]
  },
  {
   "cell_type": "code",
   "execution_count": null,
   "metadata": {},
   "outputs": [],
   "source": [
    "#Scatter plot displaying cloud cover across latitude\n",
    "#Using absolute values of latitude, not comparing north vs south\n",
    "plt.scatter(abs(cities_df['Lat']), cities_df['Cloudiness (%)'])\n",
    "\n",
    "plt.xlim(0, 90)\n",
    "plt.ylim(0, 110)\n",
    "\n",
    "plt.xlabel('Latitude')\n",
    "plt.ylabel('Cloud Cover')\n",
    "\n",
    "plt.title('Cloudiness across Latitude')\n",
    "plt.grid()\n",
    "plt.show()\n",
    "\n",
    "#The plot compares the cloud cover of cities with their latitude, and shows a weak correlation.\n",
    "#Cloud cover doesn't appear to be dependent on the latitude of a location."
   ]
  },
  {
   "cell_type": "code",
   "execution_count": null,
   "metadata": {},
   "outputs": [],
   "source": [
    "#Scatter plot displaying wind speed across latitude\n",
    "#Using absolute values of latitude, not comparing north vs south\n",
    "plt.scatter(abs(cities_df['Lat']), cities_df['Wind Speed (mph)'])\n",
    "\n",
    "plt.xlim(0, 90)\n",
    "plt.ylim(0, 50)\n",
    "\n",
    "plt.xlabel('Latitude')\n",
    "plt.ylabel('Cloud Cover')\n",
    "\n",
    "plt.title('Wind Speed across Latitude')\n",
    "plt.grid()\n",
    "plt.show()\n",
    "\n",
    "#The plot compares wind speed readings of cities with their latitude, and shows a weak correlation.\n",
    "#Generally, there is more potential for higher wind speeds between latitudes 20 and 60."
   ]
  },
  {
   "cell_type": "code",
   "execution_count": null,
   "metadata": {},
   "outputs": [],
   "source": [
    "## Plotting, Comparing Northern and Southern Hemispheres"
   ]
  },
  {
   "cell_type": "code",
   "execution_count": null,
   "metadata": {},
   "outputs": [],
   "source": [
    "#Separating dataframe by latitude into two\n",
    "no_hem = cities_df.loc[cities_df['Lat'] >= 0]\n",
    "so_hem = cities_df.loc[cities_df['Lat'] <= 0]\n",
    "\n",
    "#no_hem.shape\n",
    "#so_hem.shape"
   ]
  },
  {
   "cell_type": "code",
   "execution_count": null,
   "metadata": {},
   "outputs": [],
   "source": [
    "#Scatter plots comparing temperatures in northern and southern hemispheres\n",
    "fig, (ax1, ax2) = plt.subplots(1, 2)\n",
    "fig.suptitle('Temperature (F) across Latitude')\n",
    "\n",
    "ax1.scatter(no_hem['Lat'], no_hem['Current Temp (F)'])\n",
    "ax1.set(xlabel='Latitude', xlim=(0, 90), ylabel='Degrees Fahrenheit', ylim=(0, 100), title='Northern Hemisphere')\n",
    "ax1.grid()\n",
    "\n",
    "ax2.scatter(so_hem['Lat'], so_hem['Current Temp (F)'])\n",
    "ax2.set(xlabel='Latitude', xlim=(-90, 0), ylabel='Degrees Fahrenheit', ylim=(0, 100), title='Southern Hemisphere')\n",
    "ax2.grid()\n",
    "\n",
    "plt.subplots_adjust(right=1.5, top=0.8, wspace=0.5)\n",
    "plt.show()"
   ]
  },
  {
   "cell_type": "code",
   "execution_count": null,
   "metadata": {},
   "outputs": [],
   "source": [
    "#Scatter plots comparing humidity in northern and southern hemispheres\n",
    "fig, (ax1, ax2) = plt.subplots(1, 2)\n",
    "fig.suptitle('Humidity across Latitude')\n",
    "\n",
    "ax1.scatter(no_hem['Lat'], no_hem['Humidity (%)'])\n",
    "ax1.set(xlabel='Latitude', xlim=(0, 90), ylabel='Relative Humidity', ylim=(0, 100), title='Northern Hemisphere')\n",
    "ax1.grid()\n",
    "\n",
    "ax2.scatter(so_hem['Lat'], so_hem['Humidity (%)'])\n",
    "ax2.set(xlabel='Latitude', xlim=(-90, 0), ylabel='Relative Humidity', ylim=(0, 100), title='Southern Hemisphere')\n",
    "ax2.grid()\n",
    "\n",
    "plt.subplots_adjust(right=1.5, top=0.8, wspace=0.5)\n",
    "plt.show()"
   ]
  },
  {
   "cell_type": "code",
   "execution_count": null,
   "metadata": {},
   "outputs": [],
   "source": [
    "#Scatter plots comparing cloudiness in northern and southern hemispheres\n",
    "fig, (ax1, ax2) = plt.subplots(1, 2)\n",
    "fig.suptitle('Cloudiness across Latitude')\n",
    "\n",
    "ax1.scatter(no_hem['Lat'], no_hem['Cloudiness (%)'])\n",
    "ax1.set(xlabel='Latitude', xlim=(0, 90), ylabel='Cloudiness', ylim=(0, 100), title='Northern Hemisphere')\n",
    "ax1.grid()\n",
    "\n",
    "ax2.scatter(so_hem['Lat'], so_hem['Cloudiness (%)'])\n",
    "ax2.set(xlabel='Latitude', xlim=(-90, 0), ylabel='Cloudiness', ylim=(0, 100), title='Southern Hemisphere')\n",
    "ax2.grid()\n",
    "\n",
    "plt.subplots_adjust(right=1.5, top=0.8, wspace=0.5)\n",
    "plt.show()"
   ]
  },
  {
   "cell_type": "code",
   "execution_count": null,
   "metadata": {},
   "outputs": [],
   "source": [
    "#Scatter plots comparing wind speed in northern and southern hemispheres\n",
    "fig, (ax1, ax2) = plt.subplots(1, 2)\n",
    "fig.suptitle('Wind Speed across Latitude')\n",
    "\n",
    "ax1.scatter(no_hem['Lat'], no_hem['Wind Speed (mph)'])\n",
    "ax1.set(xlabel='Latitude', xlim=(0, 90), ylabel='Wind Speed (mph)', ylim=(0, 50), title='Northern Hemisphere')\n",
    "ax1.grid()\n",
    "\n",
    "ax2.scatter(so_hem['Lat'], so_hem['Wind Speed (mph)'])\n",
    "ax2.set(xlabel='Latitude', xlim=(-90, 0), ylabel='Wind Speed (mph)', ylim=(0, 50), title='Southern Hemisphere')\n",
    "ax2.grid()\n",
    "\n",
    "plt.subplots_adjust(right=1.5, top=0.8, wspace=0.5)\n",
    "plt.show()"
   ]
  },
  {
   "cell_type": "code",
   "execution_count": null,
   "metadata": {},
   "outputs": [],
   "source": []
  }
 ],
 "metadata": {
  "kernelspec": {
   "display_name": "Python 3 (ipykernel)",
   "language": "python",
   "name": "python3"
  },
  "language_info": {
   "codemirror_mode": {
    "name": "ipython",
    "version": 3
   },
   "file_extension": ".py",
   "mimetype": "text/x-python",
   "name": "python",
   "nbconvert_exporter": "python",
   "pygments_lexer": "ipython3",
   "version": "3.9.7"
  }
 },
 "nbformat": 4,
 "nbformat_minor": 4
}
