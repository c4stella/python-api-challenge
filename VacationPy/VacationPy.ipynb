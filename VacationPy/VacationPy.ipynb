{
 "cells": [
  {
   "cell_type": "code",
   "execution_count": null,
   "metadata": {},
   "outputs": [],
   "source": [
    "#Dependencies\n",
    "import pandas as pd\n",
    "import requests\n",
    "import json\n",
    "import gmaps\n",
    "\n",
    "#API key\n",
    "from config import gkey\n",
    "gmaps.configure(api_key=gkey)\n",
    "#print(gkey)"
   ]
  },
  {
   "cell_type": "code",
   "execution_count": null,
   "metadata": {},
   "outputs": [],
   "source": [
    "#Get list of cities from WeatherPy\n",
    "city_df = pd.read_csv('weather_data_0428.csv')\n",
    "\n",
    "print(city_df.shape)\n",
    "print(city_df.columns)\n",
    "city_df.head()"
   ]
  },
  {
   "cell_type": "code",
   "execution_count": null,
   "metadata": {
    "scrolled": true
   },
   "outputs": [],
   "source": [
    "## Generate heatmap of all cities, displaying humidity\n",
    "locations = city_df[['Lat', 'Lng']]\n",
    "weights = city_df['Humidity (%)']\n",
    "\n",
    "fig1 = gmaps.figure()\n",
    "heatmap = gmaps.heatmap_layer(locations, weights=weights, max_intensity = 100, point_radius = 10)\n",
    "fig1.add_layer(heatmap)\n",
    "fig1"
   ]
  },
  {
   "cell_type": "code",
   "execution_count": null,
   "metadata": {},
   "outputs": [],
   "source": [
    "## Narrow down data to find only places with ideal conditions"
   ]
  },
  {
   "cell_type": "code",
   "execution_count": null,
   "metadata": {},
   "outputs": [],
   "source": [
    "#Condition 1: Temperature must be greater than 70°F, and less than 85°F\n",
    "df_con1 = city_df.loc[city_df['Current Temp (F)'] > 70]\n",
    "df_con1 = df_con1.loc[df_con1['Current Temp (F)'] < 85]\n",
    "\n",
    "print(df_con1.shape)\n",
    "df_con1.head()"
   ]
  },
  {
   "cell_type": "code",
   "execution_count": null,
   "metadata": {},
   "outputs": [],
   "source": [
    "#Condition 2: Humidity must be less than 75%\n",
    "df_con2 = df_con1.loc[df_con1['Humidity (%)'] < 75]\n",
    "\n",
    "print(df_con2.shape)\n",
    "df_con2.head()"
   ]
  },
  {
   "cell_type": "code",
   "execution_count": null,
   "metadata": {},
   "outputs": [],
   "source": [
    "#Condition 3: Wind speed must be less than 12 mph\n",
    "df_con3 = df_con2[df_con2['Wind Speed (mph)'] < 12]\n",
    "\n",
    "print(df_con3.shape)\n",
    "df_con3.head()"
   ]
  },
  {
   "cell_type": "code",
   "execution_count": null,
   "metadata": {},
   "outputs": [],
   "source": [
    "#Restructuring dataframe\n",
    "df_con3.index = range(len(df_con3.index))\n",
    "vaca_df = df_con3[['City', 'Country', 'Lat', 'Lng', 'Current Temp (F)', 'Humidity (%)', 'Cloudiness (%)', 'Wind Speed (mph)']]\n",
    "vaca_df.head()"
   ]
  },
  {
   "cell_type": "code",
   "execution_count": null,
   "metadata": {},
   "outputs": [],
   "source": [
    "## Pass data through Google Places API, find hotels in each city"
   ]
  },
  {
   "cell_type": "code",
   "execution_count": null,
   "metadata": {},
   "outputs": [],
   "source": [
    "#Setting up url for requests\n",
    "\n",
    "#Base url for place search\n",
    "url = 'https://maps.googleapis.com/maps/api/place/textsearch/json'\n",
    "\n",
    "#Setting parameters for place search\n",
    "rad = 5000\n",
    "typ = 'lodging'\n",
    "\n",
    "params = {'radius':rad, 'type':typ, 'key':gkey}\n",
    "\n",
    "#Coordinates\n",
    "lat = list(vaca_df['Lat'])\n",
    "lng = list(vaca_df['Lng'])"
   ]
  },
  {
   "cell_type": "code",
   "execution_count": null,
   "metadata": {},
   "outputs": [],
   "source": [
    "#Empty lists for iteration\n",
    "hotel_name = []\n",
    "hotel_lat = []\n",
    "hotel_lng = []\n",
    "\n",
    "#Generating API responses (takes 2 minutes+)\n",
    "for l in range(len(lat)):\n",
    "    params['location'] = str(lat[l]) + ',' + str(lng[l])\n",
    "    response = requests.get(url, params=params)\n",
    "    data = response.json()\n",
    "    \n",
    "    hotel_name.append(data['results'][0]['name'])\n",
    "    hotel_lat.append(data['results'][0]['geometry']['location']['lat'])\n",
    "    hotel_lng.append(data['results'][0]['geometry']['location']['lng'])\n",
    "    \n",
    "#hotel_name\n",
    "#hotel_lat\n",
    "#hotel_lng"
   ]
  },
  {
   "cell_type": "code",
   "execution_count": null,
   "metadata": {},
   "outputs": [],
   "source": [
    "#Adding hotels to heatmap\n",
    "\n",
    "#hotels_dict = {'name': hotel_name, 'lat': hotel_lat, 'lng': hotel_lng, 'city': list(vaca_df['City']), 'country': list(vaca_df['Country'])}\n",
    "hotels_df = pd.DataFrame({'name': hotel_name, 'lat': hotel_lat, 'lng': hotel_lng, 'city': list(vaca_df['City']), 'country': list(vaca_df['Country'])})\n",
    "hotels_df.tail()"
   ]
  },
  {
   "cell_type": "code",
   "execution_count": null,
   "metadata": {},
   "outputs": [],
   "source": [
    "hotel_locations = hotels_df[['lat', 'lng']]\n",
    "hotel_info = hotels_df.to_dict(orient='dict')"
   ]
  },
  {
   "cell_type": "code",
   "execution_count": null,
   "metadata": {},
   "outputs": [],
   "source": [
    "info_box_template = \"\"\"\n",
    "<dl>\n",
    "<dt>Hotel Name</dt><dd>{name}</dd>\n",
    "<dt>City</dt><dd>{city}</dd>\n",
    "<dt>Country</dt><dd>{country}</dd>\n",
    "</dl>\n",
    "\"\"\"\n",
    "hotel_content = []\n",
    "\n",
    "for h in range(len(hotel_name)):\n",
    "    \n",
    "    hname = hotel_info['name'][h]\n",
    "    hcity = hotel_info['city'][h]\n",
    "    hcoun = hotel_info['country'][h]\n",
    "    \n",
    "    hotel_content.append(f'<dl><dt>Hotel Name</dt><dd>{hname}</dd><dt>City</dt><dd>{hcity}</dd><dt>Country</dt><dd>{hcoun}</dd></dl>')\n",
    "    \n",
    "len(hotel_content)"
   ]
  },
  {
   "cell_type": "code",
   "execution_count": null,
   "metadata": {},
   "outputs": [],
   "source": [
    "hotels_layer = gmaps.marker_layer(hotel_locations, info_box_content=hotel_content)\n",
    "fig2 = gmaps.figure()\n",
    "fig2.add_layer(heatmap)\n",
    "fig2.add_layer(hotels_layer)\n",
    "fig2"
   ]
  }
 ],
 "metadata": {
  "kernelspec": {
   "display_name": "Python 3 (ipykernel)",
   "language": "python",
   "name": "python3"
  },
  "language_info": {
   "codemirror_mode": {
    "name": "ipython",
    "version": 3
   },
   "file_extension": ".py",
   "mimetype": "text/x-python",
   "name": "python",
   "nbconvert_exporter": "python",
   "pygments_lexer": "ipython3",
   "version": "3.9.7"
  }
 },
 "nbformat": 4,
 "nbformat_minor": 2
}
